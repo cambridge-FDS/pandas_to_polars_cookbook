{
 "cells": [
  {
   "cell_type": "code",
   "execution_count": 34,
   "metadata": {},
   "outputs": [],
   "source": [
    "import polars as pl\n",
    "import matplotlib.pyplot as plt\n",
    "\n",
    "# Make the graphs a bit prettier, and bigger\n",
    "plt.style.use(\"ggplot\")\n",
    "plt.rcParams[\"figure.figsize\"] = (15, 5)\n",
    "plt.rcParams[\"font.family\"] = \"sans-serif\"\n",
    "\n"
   ]
  },
  {
   "cell_type": "code",
   "execution_count": 35,
   "metadata": {},
   "outputs": [
    {
     "data": {
      "text/html": [
       "<div><style>\n",
       ".dataframe > thead > tr,\n",
       ".dataframe > tbody > tr {\n",
       "  text-align: right;\n",
       "  white-space: pre-wrap;\n",
       "}\n",
       "</style>\n",
       "<small>shape: (5, 5)</small><table border=\"1\" class=\"dataframe\"><thead><tr><th>atime</th><th>ctime</th><th>package-name</th><th>mru-program</th><th>tag</th></tr><tr><td>i64</td><td>i64</td><td>str</td><td>str</td><td>str</td></tr></thead><tbody><tr><td>1387295797</td><td>1367633260</td><td>&quot;perl-base&quot;</td><td>&quot;/usr/bin/perl&quot;</td><td>null</td></tr><tr><td>1387295796</td><td>1354370480</td><td>&quot;login&quot;</td><td>&quot;/bin/su&quot;</td><td>null</td></tr><tr><td>1387295743</td><td>1354341275</td><td>&quot;libtalloc2&quot;</td><td>&quot;/usr/lib/x86_64-linux-gnu/libt…</td><td>null</td></tr><tr><td>1387295743</td><td>1387224204</td><td>&quot;libwbclient0&quot;</td><td>&quot;/usr/lib/x86_64-linux-gnu/libw…</td><td>&quot;&lt;RECENT-CTIME&gt;&quot;</td></tr><tr><td>1387295742</td><td>1354341253</td><td>&quot;libselinux1&quot;</td><td>&quot;/lib/x86_64-linux-gnu/libselin…</td><td>null</td></tr></tbody></table></div>"
      ],
      "text/plain": [
       "shape: (5, 5)\n",
       "┌────────────┬────────────┬──────────────┬─────────────────────────────────┬────────────────┐\n",
       "│ atime      ┆ ctime      ┆ package-name ┆ mru-program                     ┆ tag            │\n",
       "│ ---        ┆ ---        ┆ ---          ┆ ---                             ┆ ---            │\n",
       "│ i64        ┆ i64        ┆ str          ┆ str                             ┆ str            │\n",
       "╞════════════╪════════════╪══════════════╪═════════════════════════════════╪════════════════╡\n",
       "│ 1387295797 ┆ 1367633260 ┆ perl-base    ┆ /usr/bin/perl                   ┆ null           │\n",
       "│ 1387295796 ┆ 1354370480 ┆ login        ┆ /bin/su                         ┆ null           │\n",
       "│ 1387295743 ┆ 1354341275 ┆ libtalloc2   ┆ /usr/lib/x86_64-linux-gnu/libt… ┆ null           │\n",
       "│ 1387295743 ┆ 1387224204 ┆ libwbclient0 ┆ /usr/lib/x86_64-linux-gnu/libw… ┆ <RECENT-CTIME> │\n",
       "│ 1387295742 ┆ 1354341253 ┆ libselinux1  ┆ /lib/x86_64-linux-gnu/libselin… ┆ null           │\n",
       "└────────────┴────────────┴──────────────┴─────────────────────────────────┴────────────────┘"
      ]
     },
     "execution_count": 35,
     "metadata": {},
     "output_type": "execute_result"
    }
   ],
   "source": [
    "popcon = pl.read_csv(\n",
    "    \"../data/popularity-contest\",separator=\" \",ignore_errors=True).slice(0,-1)\n",
    "popcon.columns = [\"atime\", \"ctime\", \"package-name\", \"mru-program\", \"tag\"]\n",
    "popcon[:5]"
   ]
  },
  {
   "cell_type": "code",
   "execution_count": 36,
   "metadata": {},
   "outputs": [
    {
     "data": {
      "text/html": [
       "<div><style>\n",
       ".dataframe > thead > tr,\n",
       ".dataframe > tbody > tr {\n",
       "  text-align: right;\n",
       "  white-space: pre-wrap;\n",
       "}\n",
       "</style>\n",
       "<small>shape: (2_897, 5)</small><table border=\"1\" class=\"dataframe\"><thead><tr><th>atime</th><th>ctime</th><th>package-name</th><th>mru-program</th><th>tag</th></tr><tr><td>i64</td><td>i64</td><td>str</td><td>str</td><td>str</td></tr></thead><tbody><tr><td>1387295797</td><td>1367633260</td><td>&quot;perl-base&quot;</td><td>&quot;/usr/bin/perl&quot;</td><td>null</td></tr><tr><td>1387295796</td><td>1354370480</td><td>&quot;login&quot;</td><td>&quot;/bin/su&quot;</td><td>null</td></tr><tr><td>1387295743</td><td>1354341275</td><td>&quot;libtalloc2&quot;</td><td>&quot;/usr/lib/x86_64-linux-gnu/libt…</td><td>null</td></tr><tr><td>1387295743</td><td>1387224204</td><td>&quot;libwbclient0&quot;</td><td>&quot;/usr/lib/x86_64-linux-gnu/libw…</td><td>&quot;&lt;RECENT-CTIME&gt;&quot;</td></tr><tr><td>1387295742</td><td>1354341253</td><td>&quot;libselinux1&quot;</td><td>&quot;/lib/x86_64-linux-gnu/libselin…</td><td>null</td></tr><tr><td>&hellip;</td><td>&hellip;</td><td>&hellip;</td><td>&hellip;</td><td>&hellip;</td></tr><tr><td>0</td><td>0</td><td>&quot;libreadline-dev&quot;</td><td>&quot;&lt;NOFILES&gt;&quot;</td><td>null</td></tr><tr><td>0</td><td>0</td><td>&quot;notify-osd-icons&quot;</td><td>&quot;&lt;NOFILES&gt;&quot;</td><td>null</td></tr><tr><td>0</td><td>0</td><td>&quot;python-apt-common&quot;</td><td>&quot;&lt;NOFILES&gt;&quot;</td><td>null</td></tr><tr><td>0</td><td>0</td><td>&quot;libindicator-messages-status-p…</td><td>&quot;&lt;NOFILES&gt;&quot;</td><td>null</td></tr><tr><td>0</td><td>0</td><td>&quot;libusbmuxd1&quot;</td><td>&quot;&lt;NOFILES&gt;&quot;</td><td>null</td></tr></tbody></table></div>"
      ],
      "text/plain": [
       "shape: (2_897, 5)\n",
       "┌────────────┬────────────┬───────────────────────────┬───────────────────────────┬────────────────┐\n",
       "│ atime      ┆ ctime      ┆ package-name              ┆ mru-program               ┆ tag            │\n",
       "│ ---        ┆ ---        ┆ ---                       ┆ ---                       ┆ ---            │\n",
       "│ i64        ┆ i64        ┆ str                       ┆ str                       ┆ str            │\n",
       "╞════════════╪════════════╪═══════════════════════════╪═══════════════════════════╪════════════════╡\n",
       "│ 1387295797 ┆ 1367633260 ┆ perl-base                 ┆ /usr/bin/perl             ┆ null           │\n",
       "│ 1387295796 ┆ 1354370480 ┆ login                     ┆ /bin/su                   ┆ null           │\n",
       "│ 1387295743 ┆ 1354341275 ┆ libtalloc2                ┆ /usr/lib/x86_64-linux-gnu ┆ null           │\n",
       "│            ┆            ┆                           ┆ /libt…                    ┆                │\n",
       "│ 1387295743 ┆ 1387224204 ┆ libwbclient0              ┆ /usr/lib/x86_64-linux-gnu ┆ <RECENT-CTIME> │\n",
       "│            ┆            ┆                           ┆ /libw…                    ┆                │\n",
       "│ 1387295742 ┆ 1354341253 ┆ libselinux1               ┆ /lib/x86_64-linux-gnu/lib ┆ null           │\n",
       "│            ┆            ┆                           ┆ selin…                    ┆                │\n",
       "│ …          ┆ …          ┆ …                         ┆ …                         ┆ …              │\n",
       "│ 0          ┆ 0          ┆ libreadline-dev           ┆ <NOFILES>                 ┆ null           │\n",
       "│ 0          ┆ 0          ┆ notify-osd-icons          ┆ <NOFILES>                 ┆ null           │\n",
       "│ 0          ┆ 0          ┆ python-apt-common         ┆ <NOFILES>                 ┆ null           │\n",
       "│ 0          ┆ 0          ┆ libindicator-messages-sta ┆ <NOFILES>                 ┆ null           │\n",
       "│            ┆            ┆ tus-p…                    ┆                           ┆                │\n",
       "│ 0          ┆ 0          ┆ libusbmuxd1               ┆ <NOFILES>                 ┆ null           │\n",
       "└────────────┴────────────┴───────────────────────────┴───────────────────────────┴────────────────┘"
      ]
     },
     "execution_count": 36,
     "metadata": {},
     "output_type": "execute_result"
    }
   ],
   "source": [
    "popcon = popcon.with_columns([\n",
    "    pl.col(\"atime\").cast(pl.Int64),\n",
    "    pl.col(\"ctime\").cast(pl.Int64)\n",
    "])\n",
    "popcon"
   ]
  },
  {
   "cell_type": "code",
   "execution_count": 37,
   "metadata": {},
   "outputs": [
    {
     "data": {
      "text/html": [
       "<div><style>\n",
       ".dataframe > thead > tr,\n",
       ".dataframe > tbody > tr {\n",
       "  text-align: right;\n",
       "  white-space: pre-wrap;\n",
       "}\n",
       "</style>\n",
       "<small>shape: (2_897, 5)</small><table border=\"1\" class=\"dataframe\"><thead><tr><th>atime</th><th>ctime</th><th>package-name</th><th>mru-program</th><th>tag</th></tr><tr><td>datetime[ms]</td><td>datetime[ms]</td><td>str</td><td>str</td><td>str</td></tr></thead><tbody><tr><td>2013-12-17 15:56:37</td><td>2013-05-04 02:07:40</td><td>&quot;perl-base&quot;</td><td>&quot;/usr/bin/perl&quot;</td><td>null</td></tr><tr><td>2013-12-17 15:56:36</td><td>2012-12-01 14:01:20</td><td>&quot;login&quot;</td><td>&quot;/bin/su&quot;</td><td>null</td></tr><tr><td>2013-12-17 15:55:43</td><td>2012-12-01 05:54:35</td><td>&quot;libtalloc2&quot;</td><td>&quot;/usr/lib/x86_64-linux-gnu/libt…</td><td>null</td></tr><tr><td>2013-12-17 15:55:43</td><td>2013-12-16 20:03:24</td><td>&quot;libwbclient0&quot;</td><td>&quot;/usr/lib/x86_64-linux-gnu/libw…</td><td>&quot;&lt;RECENT-CTIME&gt;&quot;</td></tr><tr><td>2013-12-17 15:55:42</td><td>2012-12-01 05:54:13</td><td>&quot;libselinux1&quot;</td><td>&quot;/lib/x86_64-linux-gnu/libselin…</td><td>null</td></tr><tr><td>&hellip;</td><td>&hellip;</td><td>&hellip;</td><td>&hellip;</td><td>&hellip;</td></tr><tr><td>1970-01-01 00:00:00</td><td>1970-01-01 00:00:00</td><td>&quot;libreadline-dev&quot;</td><td>&quot;&lt;NOFILES&gt;&quot;</td><td>null</td></tr><tr><td>1970-01-01 00:00:00</td><td>1970-01-01 00:00:00</td><td>&quot;notify-osd-icons&quot;</td><td>&quot;&lt;NOFILES&gt;&quot;</td><td>null</td></tr><tr><td>1970-01-01 00:00:00</td><td>1970-01-01 00:00:00</td><td>&quot;python-apt-common&quot;</td><td>&quot;&lt;NOFILES&gt;&quot;</td><td>null</td></tr><tr><td>1970-01-01 00:00:00</td><td>1970-01-01 00:00:00</td><td>&quot;libindicator-messages-status-p…</td><td>&quot;&lt;NOFILES&gt;&quot;</td><td>null</td></tr><tr><td>1970-01-01 00:00:00</td><td>1970-01-01 00:00:00</td><td>&quot;libusbmuxd1&quot;</td><td>&quot;&lt;NOFILES&gt;&quot;</td><td>null</td></tr></tbody></table></div>"
      ],
      "text/plain": [
       "shape: (2_897, 5)\n",
       "┌──────────────┬──────────────────────┬─────────────────────┬─────────────────────┬────────────────┐\n",
       "│ atime        ┆ ctime                ┆ package-name        ┆ mru-program         ┆ tag            │\n",
       "│ ---          ┆ ---                  ┆ ---                 ┆ ---                 ┆ ---            │\n",
       "│ datetime[ms] ┆ datetime[ms]         ┆ str                 ┆ str                 ┆ str            │\n",
       "╞══════════════╪══════════════════════╪═════════════════════╪═════════════════════╪════════════════╡\n",
       "│ 2013-12-17   ┆ 2013-05-04 02:07:40  ┆ perl-base           ┆ /usr/bin/perl       ┆ null           │\n",
       "│ 15:56:37     ┆                      ┆                     ┆                     ┆                │\n",
       "│ 2013-12-17   ┆ 2012-12-01 14:01:20  ┆ login               ┆ /bin/su             ┆ null           │\n",
       "│ 15:56:36     ┆                      ┆                     ┆                     ┆                │\n",
       "│ 2013-12-17   ┆ 2012-12-01 05:54:35  ┆ libtalloc2          ┆ /usr/lib/x86_64-lin ┆ null           │\n",
       "│ 15:55:43     ┆                      ┆                     ┆ ux-gnu/libt…        ┆                │\n",
       "│ 2013-12-17   ┆ 2013-12-16 20:03:24  ┆ libwbclient0        ┆ /usr/lib/x86_64-lin ┆ <RECENT-CTIME> │\n",
       "│ 15:55:43     ┆                      ┆                     ┆ ux-gnu/libw…        ┆                │\n",
       "│ 2013-12-17   ┆ 2012-12-01 05:54:13  ┆ libselinux1         ┆ /lib/x86_64-linux-g ┆ null           │\n",
       "│ 15:55:42     ┆                      ┆                     ┆ nu/libselin…        ┆                │\n",
       "│ …            ┆ …                    ┆ …                   ┆ …                   ┆ …              │\n",
       "│ 1970-01-01   ┆ 1970-01-01 00:00:00  ┆ libreadline-dev     ┆ <NOFILES>           ┆ null           │\n",
       "│ 00:00:00     ┆                      ┆                     ┆                     ┆                │\n",
       "│ 1970-01-01   ┆ 1970-01-01 00:00:00  ┆ notify-osd-icons    ┆ <NOFILES>           ┆ null           │\n",
       "│ 00:00:00     ┆                      ┆                     ┆                     ┆                │\n",
       "│ 1970-01-01   ┆ 1970-01-01 00:00:00  ┆ python-apt-common   ┆ <NOFILES>           ┆ null           │\n",
       "│ 00:00:00     ┆                      ┆                     ┆                     ┆                │\n",
       "│ 1970-01-01   ┆ 1970-01-01 00:00:00  ┆ libindicator-messag ┆ <NOFILES>           ┆ null           │\n",
       "│ 00:00:00     ┆                      ┆ es-status-p…        ┆                     ┆                │\n",
       "│ 1970-01-01   ┆ 1970-01-01 00:00:00  ┆ libusbmuxd1         ┆ <NOFILES>           ┆ null           │\n",
       "│ 00:00:00     ┆                      ┆                     ┆                     ┆                │\n",
       "└──────────────┴──────────────────────┴─────────────────────┴─────────────────────┴────────────────┘"
      ]
     },
     "execution_count": 37,
     "metadata": {},
     "output_type": "execute_result"
    }
   ],
   "source": [
    "popcon = popcon.with_columns([\n",
    "    (pl.col(\"atime\")*1000).cast(pl.Datetime(\"ms\")),  # 将 'atime' 转换为以秒为单位的日期时间\n",
    "    (pl.col(\"ctime\")*1000).cast(pl.Datetime(\"ms\"))   # 将 'ctime' 转换为以秒为单位的日期时间\n",
    "])\n",
    "popcon"
   ]
  },
  {
   "cell_type": "code",
   "execution_count": 40,
   "metadata": {},
   "outputs": [
    {
     "data": {
      "text/html": [
       "<div><style>\n",
       ".dataframe > thead > tr,\n",
       ".dataframe > tbody > tr {\n",
       "  text-align: right;\n",
       "  white-space: pre-wrap;\n",
       "}\n",
       "</style>\n",
       "<small>shape: (10, 5)</small><table border=\"1\" class=\"dataframe\"><thead><tr><th>atime</th><th>ctime</th><th>package-name</th><th>mru-program</th><th>tag</th></tr><tr><td>datetime[ms]</td><td>datetime[ms]</td><td>str</td><td>str</td><td>str</td></tr></thead><tbody><tr><td>2013-12-17 04:55:39</td><td>2013-12-17 04:55:42</td><td>&quot;ddd&quot;</td><td>&quot;/usr/bin/ddd&quot;</td><td>&quot;&lt;RECENT-CTIME&gt;&quot;</td></tr><tr><td>2013-12-16 20:03:20</td><td>2013-12-16 20:05:13</td><td>&quot;nodejs&quot;</td><td>&quot;/usr/bin/npm&quot;</td><td>&quot;&lt;RECENT-CTIME&gt;&quot;</td></tr><tr><td>2013-12-16 20:03:20</td><td>2013-12-16 20:05:04</td><td>&quot;thunderbird-locale-en&quot;</td><td>&quot;/usr/lib/thunderbird-addons/ex…</td><td>&quot;&lt;RECENT-CTIME&gt;&quot;</td></tr><tr><td>2013-12-16 20:03:20</td><td>2013-12-16 20:05:04</td><td>&quot;switchboard-plug-keyboard&quot;</td><td>&quot;/usr/lib/plugs/pantheon/keyboa…</td><td>&quot;&lt;RECENT-CTIME&gt;&quot;</td></tr><tr><td>2013-12-16 20:08:27</td><td>2013-12-16 20:05:03</td><td>&quot;software-center&quot;</td><td>&quot;/usr/sbin/update-software-cent…</td><td>&quot;&lt;RECENT-CTIME&gt;&quot;</td></tr><tr><td>2013-12-16 20:03:20</td><td>2013-12-16 20:05:00</td><td>&quot;samba-common-bin&quot;</td><td>&quot;/usr/bin/net.samba3&quot;</td><td>&quot;&lt;RECENT-CTIME&gt;&quot;</td></tr><tr><td>2013-12-16 20:08:25</td><td>2013-12-16 20:04:59</td><td>&quot;postgresql-client-9.1&quot;</td><td>&quot;/usr/lib/postgresql/9.1/bin/ps…</td><td>&quot;&lt;RECENT-CTIME&gt;&quot;</td></tr><tr><td>2013-12-16 20:08:23</td><td>2013-12-16 20:04:58</td><td>&quot;postgresql-9.1&quot;</td><td>&quot;/usr/lib/postgresql/9.1/bin/po…</td><td>&quot;&lt;RECENT-CTIME&gt;&quot;</td></tr><tr><td>2013-12-16 20:03:20</td><td>2013-12-16 20:04:55</td><td>&quot;php5-dev&quot;</td><td>&quot;/usr/include/php5/main/snprint…</td><td>&quot;&lt;RECENT-CTIME&gt;&quot;</td></tr><tr><td>2013-12-16 20:03:20</td><td>2013-12-16 20:04:54</td><td>&quot;php-pear&quot;</td><td>&quot;/usr/share/php/XML/Util.php&quot;</td><td>&quot;&lt;RECENT-CTIME&gt;&quot;</td></tr></tbody></table></div>"
      ],
      "text/plain": [
       "shape: (10, 5)\n",
       "┌──────────────┬──────────────────────┬─────────────────────┬─────────────────────┬────────────────┐\n",
       "│ atime        ┆ ctime                ┆ package-name        ┆ mru-program         ┆ tag            │\n",
       "│ ---          ┆ ---                  ┆ ---                 ┆ ---                 ┆ ---            │\n",
       "│ datetime[ms] ┆ datetime[ms]         ┆ str                 ┆ str                 ┆ str            │\n",
       "╞══════════════╪══════════════════════╪═════════════════════╪═════════════════════╪════════════════╡\n",
       "│ 2013-12-17   ┆ 2013-12-17 04:55:42  ┆ ddd                 ┆ /usr/bin/ddd        ┆ <RECENT-CTIME> │\n",
       "│ 04:55:39     ┆                      ┆                     ┆                     ┆                │\n",
       "│ 2013-12-16   ┆ 2013-12-16 20:05:13  ┆ nodejs              ┆ /usr/bin/npm        ┆ <RECENT-CTIME> │\n",
       "│ 20:03:20     ┆                      ┆                     ┆                     ┆                │\n",
       "│ 2013-12-16   ┆ 2013-12-16 20:05:04  ┆ thunderbird-locale- ┆ /usr/lib/thunderbir ┆ <RECENT-CTIME> │\n",
       "│ 20:03:20     ┆                      ┆ en                  ┆ d-addons/ex…        ┆                │\n",
       "│ 2013-12-16   ┆ 2013-12-16 20:05:04  ┆ switchboard-plug-ke ┆ /usr/lib/plugs/pant ┆ <RECENT-CTIME> │\n",
       "│ 20:03:20     ┆                      ┆ yboard              ┆ heon/keyboa…        ┆                │\n",
       "│ 2013-12-16   ┆ 2013-12-16 20:05:03  ┆ software-center     ┆ /usr/sbin/update-so ┆ <RECENT-CTIME> │\n",
       "│ 20:08:27     ┆                      ┆                     ┆ ftware-cent…        ┆                │\n",
       "│ 2013-12-16   ┆ 2013-12-16 20:05:00  ┆ samba-common-bin    ┆ /usr/bin/net.samba3 ┆ <RECENT-CTIME> │\n",
       "│ 20:03:20     ┆                      ┆                     ┆                     ┆                │\n",
       "│ 2013-12-16   ┆ 2013-12-16 20:04:59  ┆ postgresql-client-9 ┆ /usr/lib/postgresql ┆ <RECENT-CTIME> │\n",
       "│ 20:08:25     ┆                      ┆ .1                  ┆ /9.1/bin/ps…        ┆                │\n",
       "│ 2013-12-16   ┆ 2013-12-16 20:04:58  ┆ postgresql-9.1      ┆ /usr/lib/postgresql ┆ <RECENT-CTIME> │\n",
       "│ 20:08:23     ┆                      ┆                     ┆ /9.1/bin/po…        ┆                │\n",
       "│ 2013-12-16   ┆ 2013-12-16 20:04:55  ┆ php5-dev            ┆ /usr/include/php5/m ┆ <RECENT-CTIME> │\n",
       "│ 20:03:20     ┆                      ┆                     ┆ ain/snprint…        ┆                │\n",
       "│ 2013-12-16   ┆ 2013-12-16 20:04:54  ┆ php-pear            ┆ /usr/share/php/XML/ ┆ <RECENT-CTIME> │\n",
       "│ 20:03:20     ┆                      ┆                     ┆ Util.php            ┆                │\n",
       "└──────────────┴──────────────────────┴─────────────────────┴─────────────────────┴────────────────┘"
      ]
     },
     "execution_count": 40,
     "metadata": {},
     "output_type": "execute_result"
    }
   ],
   "source": [
    "popcon = popcon.filter(pl.col(\"atime\") > pl.datetime(1970, 1, 1))\n",
    "nonlibraries = popcon.filter(~pl.col(\"package-name\").str.contains(\"lib\"))\n",
    "nonlibraries_sorted = nonlibraries.sort(\"ctime\", descending=True).head(10)\n",
    "nonlibraries_sorted"
   ]
  }
 ],
 "metadata": {
  "kernelspec": {
   "display_name": "ds",
   "language": "python",
   "name": "python3"
  },
  "language_info": {
   "codemirror_mode": {
    "name": "ipython",
    "version": 3
   },
   "file_extension": ".py",
   "mimetype": "text/x-python",
   "name": "python",
   "nbconvert_exporter": "python",
   "pygments_lexer": "ipython3",
   "version": "3.10.4"
  }
 },
 "nbformat": 4,
 "nbformat_minor": 2
}
